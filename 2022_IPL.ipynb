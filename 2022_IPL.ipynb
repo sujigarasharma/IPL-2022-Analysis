{
 "cells": [
  {
   "cell_type": "code",
   "execution_count": 1,
   "id": "f3bfcb71",
   "metadata": {
    "execution": {
     "iopub.execute_input": "2022-06-28T18:19:09.683546Z",
     "iopub.status.busy": "2022-06-28T18:19:09.683088Z",
     "iopub.status.idle": "2022-06-28T18:19:10.785067Z",
     "shell.execute_reply": "2022-06-28T18:19:10.783919Z"
    },
    "papermill": {
     "duration": 1.114158,
     "end_time": "2022-06-28T18:19:10.787859",
     "exception": false,
     "start_time": "2022-06-28T18:19:09.673701",
     "status": "completed"
    },
    "tags": []
   },
   "outputs": [],
   "source": [
    "import numpy as np\n",
    "import pandas as pd\n",
    "import matplotlib.pyplot as plt"
   ]
  },
  {
   "cell_type": "code",
   "execution_count": 2,
   "id": "413fa721",
   "metadata": {
    "execution": {
     "iopub.execute_input": "2022-06-28T18:19:10.803635Z",
     "iopub.status.busy": "2022-06-28T18:19:10.802623Z",
     "iopub.status.idle": "2022-06-28T18:19:10.825607Z",
     "shell.execute_reply": "2022-06-28T18:19:10.824445Z"
    },
    "papermill": {
     "duration": 0.033437,
     "end_time": "2022-06-28T18:19:10.828208",
     "exception": false,
     "start_time": "2022-06-28T18:19:10.794771",
     "status": "completed"
    },
    "tags": []
   },
   "outputs": [],
   "source": [
    "ipl=pd.read_csv('2022_IPL.csv')"
   ]
  },
  {
   "cell_type": "code",
   "execution_count": 3,
   "id": "7e951641",
   "metadata": {
    "execution": {
     "iopub.execute_input": "2022-06-28T18:19:10.843847Z",
     "iopub.status.busy": "2022-06-28T18:19:10.843134Z",
     "iopub.status.idle": "2022-06-28T18:19:10.871857Z",
     "shell.execute_reply": "2022-06-28T18:19:10.870716Z"
    },
    "papermill": {
     "duration": 0.039149,
     "end_time": "2022-06-28T18:19:10.874054",
     "exception": false,
     "start_time": "2022-06-28T18:19:10.834905",
     "status": "completed"
    },
    "scrolled": false,
    "tags": []
   },
   "outputs": [
    {
     "data": {
      "text/html": [
       "<div>\n",
       "<style scoped>\n",
       "    .dataframe tbody tr th:only-of-type {\n",
       "        vertical-align: middle;\n",
       "    }\n",
       "\n",
       "    .dataframe tbody tr th {\n",
       "        vertical-align: top;\n",
       "    }\n",
       "\n",
       "    .dataframe thead th {\n",
       "        text-align: right;\n",
       "    }\n",
       "</style>\n",
       "<table border=\"1\" class=\"dataframe\">\n",
       "  <thead>\n",
       "    <tr style=\"text-align: right;\">\n",
       "      <th></th>\n",
       "      <th>City</th>\n",
       "      <th>Season</th>\n",
       "      <th>MatchNumber</th>\n",
       "      <th>Team1</th>\n",
       "      <th>Team2</th>\n",
       "      <th>TossWinner</th>\n",
       "      <th>TossDecision</th>\n",
       "      <th>WinningTeam</th>\n",
       "      <th>WonBy</th>\n",
       "      <th>Margin</th>\n",
       "      <th>Player_of_Match</th>\n",
       "    </tr>\n",
       "  </thead>\n",
       "  <tbody>\n",
       "    <tr>\n",
       "      <th>0</th>\n",
       "      <td>Ahmedabad</td>\n",
       "      <td>2022</td>\n",
       "      <td>Final</td>\n",
       "      <td>Rajasthan Royals</td>\n",
       "      <td>Gujarat Titans</td>\n",
       "      <td>Rajasthan Royals</td>\n",
       "      <td>bat</td>\n",
       "      <td>Gujarat Titans</td>\n",
       "      <td>Wickets</td>\n",
       "      <td>7</td>\n",
       "      <td>HH Pandya</td>\n",
       "    </tr>\n",
       "    <tr>\n",
       "      <th>1</th>\n",
       "      <td>Ahmedabad</td>\n",
       "      <td>2022</td>\n",
       "      <td>Qualifier 2</td>\n",
       "      <td>Royal Challengers Bangalore</td>\n",
       "      <td>Rajasthan Royals</td>\n",
       "      <td>Rajasthan Royals</td>\n",
       "      <td>field</td>\n",
       "      <td>Rajasthan Royals</td>\n",
       "      <td>Wickets</td>\n",
       "      <td>7</td>\n",
       "      <td>JC Buttler</td>\n",
       "    </tr>\n",
       "    <tr>\n",
       "      <th>2</th>\n",
       "      <td>Kolkata</td>\n",
       "      <td>2022</td>\n",
       "      <td>Eliminator</td>\n",
       "      <td>Royal Challengers Bangalore</td>\n",
       "      <td>Lucknow Super Giants</td>\n",
       "      <td>Lucknow Super Giants</td>\n",
       "      <td>field</td>\n",
       "      <td>Royal Challengers Bangalore</td>\n",
       "      <td>Runs</td>\n",
       "      <td>14</td>\n",
       "      <td>RM Patidar</td>\n",
       "    </tr>\n",
       "    <tr>\n",
       "      <th>3</th>\n",
       "      <td>Kolkata</td>\n",
       "      <td>2022</td>\n",
       "      <td>Qualifier 1</td>\n",
       "      <td>Rajasthan Royals</td>\n",
       "      <td>Gujarat Titans</td>\n",
       "      <td>Gujarat Titans</td>\n",
       "      <td>field</td>\n",
       "      <td>Gujarat Titans</td>\n",
       "      <td>Wickets</td>\n",
       "      <td>7</td>\n",
       "      <td>DA Miller</td>\n",
       "    </tr>\n",
       "    <tr>\n",
       "      <th>4</th>\n",
       "      <td>Mumbai</td>\n",
       "      <td>2022</td>\n",
       "      <td>70</td>\n",
       "      <td>Sunrisers Hyderabad</td>\n",
       "      <td>Punjab Kings</td>\n",
       "      <td>Sunrisers Hyderabad</td>\n",
       "      <td>bat</td>\n",
       "      <td>Punjab Kings</td>\n",
       "      <td>Wickets</td>\n",
       "      <td>5</td>\n",
       "      <td>Harpreet Brar</td>\n",
       "    </tr>\n",
       "  </tbody>\n",
       "</table>\n",
       "</div>"
      ],
      "text/plain": [
       "        City  Season  MatchNumber                        Team1  \\\n",
       "0  Ahmedabad    2022        Final             Rajasthan Royals   \n",
       "1  Ahmedabad    2022  Qualifier 2  Royal Challengers Bangalore   \n",
       "2    Kolkata    2022   Eliminator  Royal Challengers Bangalore   \n",
       "3    Kolkata    2022  Qualifier 1             Rajasthan Royals   \n",
       "4     Mumbai    2022           70          Sunrisers Hyderabad   \n",
       "\n",
       "                  Team2            TossWinner TossDecision  \\\n",
       "0        Gujarat Titans      Rajasthan Royals          bat   \n",
       "1      Rajasthan Royals      Rajasthan Royals        field   \n",
       "2  Lucknow Super Giants  Lucknow Super Giants        field   \n",
       "3        Gujarat Titans        Gujarat Titans        field   \n",
       "4          Punjab Kings   Sunrisers Hyderabad          bat   \n",
       "\n",
       "                   WinningTeam    WonBy  Margin Player_of_Match  \n",
       "0               Gujarat Titans  Wickets       7       HH Pandya  \n",
       "1             Rajasthan Royals  Wickets       7      JC Buttler  \n",
       "2  Royal Challengers Bangalore     Runs      14      RM Patidar  \n",
       "3               Gujarat Titans  Wickets       7       DA Miller  \n",
       "4                 Punjab Kings  Wickets       5   Harpreet Brar  "
      ]
     },
     "execution_count": 3,
     "metadata": {},
     "output_type": "execute_result"
    }
   ],
   "source": [
    "ipl.head()"
   ]
  },
  {
   "cell_type": "code",
   "execution_count": 4,
   "id": "ea5b5158",
   "metadata": {
    "execution": {
     "iopub.execute_input": "2022-06-28T18:19:12.617160Z",
     "iopub.status.busy": "2022-06-28T18:19:12.616606Z",
     "iopub.status.idle": "2022-06-28T18:19:12.632138Z",
     "shell.execute_reply": "2022-06-28T18:19:12.630851Z"
    },
    "papermill": {
     "duration": 0.041522,
     "end_time": "2022-06-28T18:19:12.635975",
     "exception": false,
     "start_time": "2022-06-28T18:19:12.594453",
     "status": "completed"
    },
    "tags": []
   },
   "outputs": [
    {
     "data": {
      "text/plain": [
       "Mumbai         48\n",
       "Pune           13\n",
       "Navi Mumbai     9\n",
       "Ahmedabad       2\n",
       "Kolkata         2\n",
       "Name: City, dtype: int64"
      ]
     },
     "execution_count": 4,
     "metadata": {},
     "output_type": "execute_result"
    }
   ],
   "source": [
    "# HOW MANY MATCHES ARE IN THE CITY\n",
    "ipl['City'].value_counts()"
   ]
  },
  {
   "cell_type": "code",
   "execution_count": 5,
   "id": "20ac5ca8",
   "metadata": {
    "execution": {
     "iopub.execute_input": "2022-06-28T18:19:11.158041Z",
     "iopub.status.busy": "2022-06-28T18:19:11.157673Z",
     "iopub.status.idle": "2022-06-28T18:19:11.165602Z",
     "shell.execute_reply": "2022-06-28T18:19:11.164494Z"
    },
    "papermill": {
     "duration": 0.019152,
     "end_time": "2022-06-28T18:19:11.167756",
     "exception": false,
     "start_time": "2022-06-28T18:19:11.148604",
     "status": "completed"
    },
    "tags": []
   },
   "outputs": [
    {
     "data": {
      "text/plain": [
       "Gujarat Titans                 10\n",
       "Sunrisers Hyderabad            10\n",
       "Mumbai Indians                  9\n",
       "Kolkata Knight Riders           8\n",
       "Royal Challengers Bangalore     8\n",
       "Delhi Capitals                  8\n",
       "Lucknow Super Giants            7\n",
       "Chennai Super Kings             6\n",
       "Rajasthan Royals                4\n",
       "Punjab Kings                    4\n",
       "Name: TossWinner, dtype: int64"
      ]
     },
     "execution_count": 5,
     "metadata": {},
     "output_type": "execute_result"
    }
   ],
   "source": [
    "ipl['TossWinner'].value_counts()"
   ]
  },
  {
   "cell_type": "code",
   "execution_count": 6,
   "id": "a2194621",
   "metadata": {
    "execution": {
     "iopub.execute_input": "2022-06-28T18:19:11.185695Z",
     "iopub.status.busy": "2022-06-28T18:19:11.184885Z",
     "iopub.status.idle": "2022-06-28T18:19:11.193871Z",
     "shell.execute_reply": "2022-06-28T18:19:11.192886Z"
    },
    "papermill": {
     "duration": 0.021011,
     "end_time": "2022-06-28T18:19:11.196281",
     "exception": false,
     "start_time": "2022-06-28T18:19:11.175270",
     "status": "completed"
    },
    "tags": []
   },
   "outputs": [],
   "source": [
    "#FIRST BATTING AND WIN THIS TEAM\n",
    "batting_first=ipl[ipl['WonBy']!='Wickets']"
   ]
  },
  {
   "cell_type": "code",
   "execution_count": 7,
   "id": "4eed766e",
   "metadata": {
    "execution": {
     "iopub.execute_input": "2022-06-28T18:19:11.213725Z",
     "iopub.status.busy": "2022-06-28T18:19:11.212976Z",
     "iopub.status.idle": "2022-06-28T18:19:11.232621Z",
     "shell.execute_reply": "2022-06-28T18:19:11.231516Z"
    },
    "papermill": {
     "duration": 0.031062,
     "end_time": "2022-06-28T18:19:11.234953",
     "exception": false,
     "start_time": "2022-06-28T18:19:11.203891",
     "status": "completed"
    },
    "tags": []
   },
   "outputs": [
    {
     "data": {
      "text/html": [
       "<div>\n",
       "<style scoped>\n",
       "    .dataframe tbody tr th:only-of-type {\n",
       "        vertical-align: middle;\n",
       "    }\n",
       "\n",
       "    .dataframe tbody tr th {\n",
       "        vertical-align: top;\n",
       "    }\n",
       "\n",
       "    .dataframe thead th {\n",
       "        text-align: right;\n",
       "    }\n",
       "</style>\n",
       "<table border=\"1\" class=\"dataframe\">\n",
       "  <thead>\n",
       "    <tr style=\"text-align: right;\">\n",
       "      <th></th>\n",
       "      <th>City</th>\n",
       "      <th>Season</th>\n",
       "      <th>MatchNumber</th>\n",
       "      <th>Team1</th>\n",
       "      <th>Team2</th>\n",
       "      <th>TossWinner</th>\n",
       "      <th>TossDecision</th>\n",
       "      <th>WinningTeam</th>\n",
       "      <th>WonBy</th>\n",
       "      <th>Margin</th>\n",
       "      <th>Player_of_Match</th>\n",
       "    </tr>\n",
       "  </thead>\n",
       "  <tbody>\n",
       "    <tr>\n",
       "      <th>2</th>\n",
       "      <td>Kolkata</td>\n",
       "      <td>2022</td>\n",
       "      <td>Eliminator</td>\n",
       "      <td>Royal Challengers Bangalore</td>\n",
       "      <td>Lucknow Super Giants</td>\n",
       "      <td>Lucknow Super Giants</td>\n",
       "      <td>field</td>\n",
       "      <td>Royal Challengers Bangalore</td>\n",
       "      <td>Runs</td>\n",
       "      <td>14</td>\n",
       "      <td>RM Patidar</td>\n",
       "    </tr>\n",
       "    <tr>\n",
       "      <th>8</th>\n",
       "      <td>Navi Mumbai</td>\n",
       "      <td>2022</td>\n",
       "      <td>66</td>\n",
       "      <td>Lucknow Super Giants</td>\n",
       "      <td>Kolkata Knight Riders</td>\n",
       "      <td>Lucknow Super Giants</td>\n",
       "      <td>bat</td>\n",
       "      <td>Lucknow Super Giants</td>\n",
       "      <td>Runs</td>\n",
       "      <td>2</td>\n",
       "      <td>Q de Kock</td>\n",
       "    </tr>\n",
       "    <tr>\n",
       "      <th>9</th>\n",
       "      <td>Mumbai</td>\n",
       "      <td>2022</td>\n",
       "      <td>65</td>\n",
       "      <td>Sunrisers Hyderabad</td>\n",
       "      <td>Mumbai Indians</td>\n",
       "      <td>Mumbai Indians</td>\n",
       "      <td>field</td>\n",
       "      <td>Sunrisers Hyderabad</td>\n",
       "      <td>Runs</td>\n",
       "      <td>3</td>\n",
       "      <td>RA Tripathi</td>\n",
       "    </tr>\n",
       "    <tr>\n",
       "      <th>10</th>\n",
       "      <td>Navi Mumbai</td>\n",
       "      <td>2022</td>\n",
       "      <td>64</td>\n",
       "      <td>Delhi Capitals</td>\n",
       "      <td>Punjab Kings</td>\n",
       "      <td>Punjab Kings</td>\n",
       "      <td>field</td>\n",
       "      <td>Delhi Capitals</td>\n",
       "      <td>Runs</td>\n",
       "      <td>17</td>\n",
       "      <td>SN Thakur</td>\n",
       "    </tr>\n",
       "    <tr>\n",
       "      <th>11</th>\n",
       "      <td>Mumbai</td>\n",
       "      <td>2022</td>\n",
       "      <td>63</td>\n",
       "      <td>Rajasthan Royals</td>\n",
       "      <td>Lucknow Super Giants</td>\n",
       "      <td>Rajasthan Royals</td>\n",
       "      <td>bat</td>\n",
       "      <td>Rajasthan Royals</td>\n",
       "      <td>Runs</td>\n",
       "      <td>24</td>\n",
       "      <td>TA Boult</td>\n",
       "    </tr>\n",
       "  </tbody>\n",
       "</table>\n",
       "</div>"
      ],
      "text/plain": [
       "           City  Season MatchNumber                        Team1  \\\n",
       "2       Kolkata    2022  Eliminator  Royal Challengers Bangalore   \n",
       "8   Navi Mumbai    2022          66         Lucknow Super Giants   \n",
       "9        Mumbai    2022          65          Sunrisers Hyderabad   \n",
       "10  Navi Mumbai    2022          64               Delhi Capitals   \n",
       "11       Mumbai    2022          63             Rajasthan Royals   \n",
       "\n",
       "                    Team2            TossWinner TossDecision  \\\n",
       "2    Lucknow Super Giants  Lucknow Super Giants        field   \n",
       "8   Kolkata Knight Riders  Lucknow Super Giants          bat   \n",
       "9          Mumbai Indians        Mumbai Indians        field   \n",
       "10           Punjab Kings          Punjab Kings        field   \n",
       "11   Lucknow Super Giants      Rajasthan Royals          bat   \n",
       "\n",
       "                    WinningTeam WonBy  Margin Player_of_Match  \n",
       "2   Royal Challengers Bangalore  Runs      14      RM Patidar  \n",
       "8          Lucknow Super Giants  Runs       2       Q de Kock  \n",
       "9           Sunrisers Hyderabad  Runs       3     RA Tripathi  \n",
       "10               Delhi Capitals  Runs      17       SN Thakur  \n",
       "11             Rajasthan Royals  Runs      24        TA Boult  "
      ]
     },
     "execution_count": 7,
     "metadata": {},
     "output_type": "execute_result"
    }
   ],
   "source": [
    "batting_first.head()"
   ]
  },
  {
   "cell_type": "code",
   "execution_count": 12,
   "id": "a24acd68",
   "metadata": {
    "execution": {
     "iopub.execute_input": "2022-06-28T18:19:11.253224Z",
     "iopub.status.busy": "2022-06-28T18:19:11.252511Z",
     "iopub.status.idle": "2022-06-28T18:19:11.406336Z",
     "shell.execute_reply": "2022-06-28T18:19:11.405035Z"
    },
    "papermill": {
     "duration": 0.165569,
     "end_time": "2022-06-28T18:19:11.408774",
     "exception": false,
     "start_time": "2022-06-28T18:19:11.243205",
     "status": "completed"
    },
    "tags": []
   },
   "outputs": [
    {
     "data": {
      "image/png": "[encoded data removed]",
      "text/plain": [
       "<Figure size 288x288 with 1 Axes>"
      ]
     },
     "metadata": {
      "needs_background": "light"
     },
     "output_type": "display_data"
    }
   ],
   "source": [
    "#DISTRIBUTION OF RUNS\n",
    "plt.figure(figsize=(4,4))\n",
    "plt.hist(batting_first['Margin'])\n",
    "plt.title('Distrubution of runs')\n",
    "plt.xlabel('Runs')\n",
    "plt.show()"
   ]
  },
  {
   "cell_type": "code",
   "execution_count": 13,
   "id": "0b364489",
   "metadata": {
    "execution": {
     "iopub.execute_input": "2022-06-28T18:19:11.427456Z",
     "iopub.status.busy": "2022-06-28T18:19:11.426761Z",
     "iopub.status.idle": "2022-06-28T18:19:11.433936Z",
     "shell.execute_reply": "2022-06-28T18:19:11.433168Z"
    },
    "papermill": {
     "duration": 0.018947,
     "end_time": "2022-06-28T18:19:11.435805",
     "exception": false,
     "start_time": "2022-06-28T18:19:11.416858",
     "status": "completed"
    },
    "tags": []
   },
   "outputs": [
    {
     "data": {
      "text/plain": [
       "Lucknow Super Giants           7\n",
       "Rajasthan Royals               7\n",
       "Royal Challengers Bangalore    5\n",
       "Punjab Kings                   4\n",
       "Gujarat Titans                 4\n",
       "Delhi Capitals                 3\n",
       "Chennai Super Kings            3\n",
       "Kolkata Knight Riders          2\n",
       "Sunrisers Hyderabad            1\n",
       "Mumbai Indians                 1\n",
       "Name: WinningTeam, dtype: int64"
      ]
     },
     "execution_count": 13,
     "metadata": {},
     "output_type": "execute_result"
    }
   ],
   "source": [
    "#batting first winning\n",
    "batting_first['WinningTeam'].value_counts()"
   ]
  },
  {
   "cell_type": "code",
   "execution_count": 15,
   "id": "e40866a1",
   "metadata": {
    "execution": {
     "iopub.execute_input": "2022-06-28T18:19:11.453931Z",
     "iopub.status.busy": "2022-06-28T18:19:11.452991Z",
     "iopub.status.idle": "2022-06-28T18:19:11.615196Z",
     "shell.execute_reply": "2022-06-28T18:19:11.613947Z"
    },
    "papermill": {
     "duration": 0.17373,
     "end_time": "2022-06-28T18:19:11.617581",
     "exception": false,
     "start_time": "2022-06-28T18:19:11.443851",
     "status": "completed"
    },
    "tags": []
   },
   "outputs": [
    {
     "data": {
      "image/png": "[encoded data removed]",
      "text/plain": [
       "<Figure size 720x360 with 1 Axes>"
      ]
     },
     "metadata": {
      "needs_background": "light"
     },
     "output_type": "display_data"
    }
   ],
   "source": [
    "#batting first winning team graph\n",
    "plt.figure(figsize=(10,5))\n",
    "plt.bar(list(batting_first['WinningTeam'].value_counts()[0:3].keys()),list(batting_first['WinningTeam'].value_counts()[0:3]),color=['yellow','blue','orange'])\n",
    "plt.title('Batting win match')\n",
    "plt.show()"
   ]
  },
  {
   "cell_type": "code",
   "execution_count": 16,
   "id": "d8b8f7a7",
   "metadata": {
    "execution": {
     "iopub.execute_input": "2022-06-28T18:19:11.635887Z",
     "iopub.status.busy": "2022-06-28T18:19:11.635518Z",
     "iopub.status.idle": "2022-06-28T18:19:11.852886Z",
     "shell.execute_reply": "2022-06-28T18:19:11.851442Z"
    },
    "papermill": {
     "duration": 0.231441,
     "end_time": "2022-06-28T18:19:11.857478",
     "exception": false,
     "start_time": "2022-06-28T18:19:11.626037",
     "status": "completed"
    },
    "tags": []
   },
   "outputs": [
    {
     "data": {
      "image/png": "[encoded data removed]",
      "text/plain": [
       "<Figure size 504x504 with 1 Axes>"
      ]
     },
     "metadata": {},
     "output_type": "display_data"
    }
   ],
   "source": [
    "# PERCENTAGE  OF WIN TEAM FIRST BATTING\n",
    "plt.figure(figsize=(7,7))\n",
    "plt.pie(list(batting_first['WinningTeam'].value_counts()),labels=list(batting_first['WinningTeam'].value_counts().keys()),autopct='%0.1f%%')\n",
    "plt.title('percentage of win match')\n",
    "plt.show()"
   ]
  },
  {
   "cell_type": "code",
   "execution_count": 19,
   "id": "15cfdf38",
   "metadata": {},
   "outputs": [],
   "source": [
    "#FIRST FIELDING AND WIN THIS TEAM\n",
    "batting_second=ipl[ipl['WonBy']!='Runs']"
   ]
  },
  {
   "cell_type": "code",
   "execution_count": 20,
   "id": "f4a6c9e5",
   "metadata": {
    "execution": {
     "iopub.execute_input": "2022-06-28T18:19:11.910441Z",
     "iopub.status.busy": "2022-06-28T18:19:11.909761Z",
     "iopub.status.idle": "2022-06-28T18:19:11.930562Z",
     "shell.execute_reply": "2022-06-28T18:19:11.929485Z"
    },
    "papermill": {
     "duration": 0.033811,
     "end_time": "2022-06-28T18:19:11.932839",
     "exception": false,
     "start_time": "2022-06-28T18:19:11.899028",
     "status": "completed"
    },
    "tags": []
   },
   "outputs": [
    {
     "data": {
      "text/html": [
       "<div>\n",
       "<style scoped>\n",
       "    .dataframe tbody tr th:only-of-type {\n",
       "        vertical-align: middle;\n",
       "    }\n",
       "\n",
       "    .dataframe tbody tr th {\n",
       "        vertical-align: top;\n",
       "    }\n",
       "\n",
       "    .dataframe thead th {\n",
       "        text-align: right;\n",
       "    }\n",
       "</style>\n",
       "<table border=\"1\" class=\"dataframe\">\n",
       "  <thead>\n",
       "    <tr style=\"text-align: right;\">\n",
       "      <th></th>\n",
       "      <th>City</th>\n",
       "      <th>Season</th>\n",
       "      <th>MatchNumber</th>\n",
       "      <th>Team1</th>\n",
       "      <th>Team2</th>\n",
       "      <th>TossWinner</th>\n",
       "      <th>TossDecision</th>\n",
       "      <th>WinningTeam</th>\n",
       "      <th>WonBy</th>\n",
       "      <th>Margin</th>\n",
       "      <th>Player_of_Match</th>\n",
       "    </tr>\n",
       "  </thead>\n",
       "  <tbody>\n",
       "    <tr>\n",
       "      <th>0</th>\n",
       "      <td>Ahmedabad</td>\n",
       "      <td>2022</td>\n",
       "      <td>Final</td>\n",
       "      <td>Rajasthan Royals</td>\n",
       "      <td>Gujarat Titans</td>\n",
       "      <td>Rajasthan Royals</td>\n",
       "      <td>bat</td>\n",
       "      <td>Gujarat Titans</td>\n",
       "      <td>Wickets</td>\n",
       "      <td>7</td>\n",
       "      <td>HH Pandya</td>\n",
       "    </tr>\n",
       "    <tr>\n",
       "      <th>1</th>\n",
       "      <td>Ahmedabad</td>\n",
       "      <td>2022</td>\n",
       "      <td>Qualifier 2</td>\n",
       "      <td>Royal Challengers Bangalore</td>\n",
       "      <td>Rajasthan Royals</td>\n",
       "      <td>Rajasthan Royals</td>\n",
       "      <td>field</td>\n",
       "      <td>Rajasthan Royals</td>\n",
       "      <td>Wickets</td>\n",
       "      <td>7</td>\n",
       "      <td>JC Buttler</td>\n",
       "    </tr>\n",
       "    <tr>\n",
       "      <th>3</th>\n",
       "      <td>Kolkata</td>\n",
       "      <td>2022</td>\n",
       "      <td>Qualifier 1</td>\n",
       "      <td>Rajasthan Royals</td>\n",
       "      <td>Gujarat Titans</td>\n",
       "      <td>Gujarat Titans</td>\n",
       "      <td>field</td>\n",
       "      <td>Gujarat Titans</td>\n",
       "      <td>Wickets</td>\n",
       "      <td>7</td>\n",
       "      <td>DA Miller</td>\n",
       "    </tr>\n",
       "    <tr>\n",
       "      <th>4</th>\n",
       "      <td>Mumbai</td>\n",
       "      <td>2022</td>\n",
       "      <td>70</td>\n",
       "      <td>Sunrisers Hyderabad</td>\n",
       "      <td>Punjab Kings</td>\n",
       "      <td>Sunrisers Hyderabad</td>\n",
       "      <td>bat</td>\n",
       "      <td>Punjab Kings</td>\n",
       "      <td>Wickets</td>\n",
       "      <td>5</td>\n",
       "      <td>Harpreet Brar</td>\n",
       "    </tr>\n",
       "    <tr>\n",
       "      <th>5</th>\n",
       "      <td>Mumbai</td>\n",
       "      <td>2022</td>\n",
       "      <td>69</td>\n",
       "      <td>Delhi Capitals</td>\n",
       "      <td>Mumbai Indians</td>\n",
       "      <td>Mumbai Indians</td>\n",
       "      <td>field</td>\n",
       "      <td>Mumbai Indians</td>\n",
       "      <td>Wickets</td>\n",
       "      <td>5</td>\n",
       "      <td>JJ Bumrah</td>\n",
       "    </tr>\n",
       "  </tbody>\n",
       "</table>\n",
       "</div>"
      ],
      "text/plain": [
       "        City  Season  MatchNumber                        Team1  \\\n",
       "0  Ahmedabad    2022        Final             Rajasthan Royals   \n",
       "1  Ahmedabad    2022  Qualifier 2  Royal Challengers Bangalore   \n",
       "3    Kolkata    2022  Qualifier 1             Rajasthan Royals   \n",
       "4     Mumbai    2022           70          Sunrisers Hyderabad   \n",
       "5     Mumbai    2022           69               Delhi Capitals   \n",
       "\n",
       "              Team2           TossWinner TossDecision       WinningTeam  \\\n",
       "0    Gujarat Titans     Rajasthan Royals          bat    Gujarat Titans   \n",
       "1  Rajasthan Royals     Rajasthan Royals        field  Rajasthan Royals   \n",
       "3    Gujarat Titans       Gujarat Titans        field    Gujarat Titans   \n",
       "4      Punjab Kings  Sunrisers Hyderabad          bat      Punjab Kings   \n",
       "5    Mumbai Indians       Mumbai Indians        field    Mumbai Indians   \n",
       "\n",
       "     WonBy  Margin Player_of_Match  \n",
       "0  Wickets       7       HH Pandya  \n",
       "1  Wickets       7      JC Buttler  \n",
       "3  Wickets       7       DA Miller  \n",
       "4  Wickets       5   Harpreet Brar  \n",
       "5  Wickets       5       JJ Bumrah  "
      ]
     },
     "execution_count": 20,
     "metadata": {},
     "output_type": "execute_result"
    }
   ],
   "source": [
    "batting_second.head()"
   ]
  },
  {
   "cell_type": "code",
   "execution_count": 22,
   "id": "eb199927",
   "metadata": {
    "execution": {
     "iopub.execute_input": "2022-06-28T18:19:11.953729Z",
     "iopub.status.busy": "2022-06-28T18:19:11.953277Z",
     "iopub.status.idle": "2022-06-28T18:19:12.181367Z",
     "shell.execute_reply": "2022-06-28T18:19:12.180155Z"
    },
    "papermill": {
     "duration": 0.241521,
     "end_time": "2022-06-28T18:19:12.183933",
     "exception": false,
     "start_time": "2022-06-28T18:19:11.942412",
     "status": "completed"
    },
    "tags": []
   },
   "outputs": [
    {
     "data": {
      "image/png": "[encoded data removed]",
      "text/plain": [
       "<Figure size 360x360 with 1 Axes>"
      ]
     },
     "metadata": {
      "needs_background": "light"
     },
     "output_type": "display_data"
    }
   ],
   "source": [
    "plt.figure(figsize=(5,5))\n",
    "plt.hist(batting_second['Margin'],bins=30)\n",
    "plt.title('Distubution run')\n",
    "plt.xlabel('Runs')\n",
    "plt.show()"
   ]
  },
  {
   "cell_type": "code",
   "execution_count": 23,
   "id": "e458a11b",
   "metadata": {
    "execution": {
     "iopub.execute_input": "2022-06-28T18:19:12.247692Z",
     "iopub.status.busy": "2022-06-28T18:19:12.246308Z",
     "iopub.status.idle": "2022-06-28T18:19:12.422386Z",
     "shell.execute_reply": "2022-06-28T18:19:12.419633Z"
    },
    "papermill": {
     "duration": 0.190004,
     "end_time": "2022-06-28T18:19:12.425152",
     "exception": false,
     "start_time": "2022-06-28T18:19:12.235148",
     "status": "completed"
    },
    "tags": []
   },
   "outputs": [
    {
     "data": {
      "image/png": "[encoded data removed]",
      "text/plain": [
       "<Figure size 360x360 with 1 Axes>"
      ]
     },
     "metadata": {
      "needs_background": "light"
     },
     "output_type": "display_data"
    }
   ],
   "source": [
    "plt.figure(figsize=(5,5))\n",
    "plt.bar(list(batting_second['WinningTeam'].value_counts()[0:3].keys()),list(batting_second['WinningTeam'].value_counts()[0:3]),color=['yellow','blue','green'])\n",
    "plt.title('Second Batting win Team')\n",
    "plt.show()"
   ]
  },
  {
   "cell_type": "code",
   "execution_count": 24,
   "id": "c8e58ae6",
   "metadata": {
    "execution": {
     "iopub.execute_input": "2022-06-28T18:19:12.205602Z",
     "iopub.status.busy": "2022-06-28T18:19:12.204662Z",
     "iopub.status.idle": "2022-06-28T18:19:12.213584Z",
     "shell.execute_reply": "2022-06-28T18:19:12.212684Z"
    },
    "papermill": {
     "duration": 0.023934,
     "end_time": "2022-06-28T18:19:12.217868",
     "exception": false,
     "start_time": "2022-06-28T18:19:12.193934",
     "status": "completed"
    },
    "tags": []
   },
   "outputs": [
    {
     "data": {
      "text/plain": [
       "Gujarat Titans                 8\n",
       "Sunrisers Hyderabad            5\n",
       "Royal Challengers Bangalore    4\n",
       "Delhi Capitals                 4\n",
       "Kolkata Knight Riders          4\n",
       "Rajasthan Royals               3\n",
       "Punjab Kings                   3\n",
       "Mumbai Indians                 3\n",
       "Lucknow Super Giants           2\n",
       "Chennai Super Kings            1\n",
       "Name: WinningTeam, dtype: int64"
      ]
     },
     "execution_count": 24,
     "metadata": {},
     "output_type": "execute_result"
    }
   ],
   "source": [
    "batting_second['WinningTeam'].value_counts()"
   ]
  },
  {
   "cell_type": "code",
   "execution_count": 21,
   "id": "3350fadb",
   "metadata": {
    "execution": {
     "iopub.execute_input": "2022-06-28T18:19:12.448247Z",
     "iopub.status.busy": "2022-06-28T18:19:12.447283Z",
     "iopub.status.idle": "2022-06-28T18:19:12.570626Z",
     "shell.execute_reply": "2022-06-28T18:19:12.569397Z"
    },
    "papermill": {
     "duration": 0.138049,
     "end_time": "2022-06-28T18:19:12.573919",
     "exception": false,
     "start_time": "2022-06-28T18:19:12.435870",
     "status": "completed"
    },
    "tags": []
   },
   "outputs": [
    {
     "data": {
      "image/png": "[encoded data removed]",
      "text/plain": [
       "<Figure size 504x504 with 1 Axes>"
      ]
     },
     "metadata": {},
     "output_type": "display_data"
    }
   ],
   "source": [
    "plt.figure(figsize=(7,7))\n",
    "plt.pie(list(batting_second['WinningTeam'].value_counts()[0:3]),labels=list(batting_second['WinningTeam'].value_counts()[0:3].keys()),autopct='%0.1f%%')\n",
    "plt.title('Second Batting win Team')\n",
    "plt.show()"
   ]
  },
  {
   "cell_type": "code",
   "execution_count": 25,
   "id": "282c616b",
   "metadata": {},
   "outputs": [
    {
     "data": {
      "text/plain": [
       "Kuldeep Yadav    4\n",
       "JC Buttler       3\n",
       "HH Pandya        2\n",
       "KL Rahul         2\n",
       "YS Chahal        2\n",
       "KD Karthik       2\n",
       "Avesh Khan       2\n",
       "PWH de Silva     2\n",
       "Shubman Gill     2\n",
       "Umran Malik      2\n",
       "Name: Player_of_Match, dtype: int64"
      ]
     },
     "execution_count": 25,
     "metadata": {},
     "output_type": "execute_result"
    }
   ],
   "source": [
    "ipl['Player_of_Match'].value_counts()[0:10]"
   ]
  },
  {
   "cell_type": "code",
   "execution_count": 26,
   "id": "47412aac",
   "metadata": {},
   "outputs": [
    {
     "data": {
      "image/png": "[encoded data removed]",
      "text/plain": [
       "<Figure size 576x360 with 1 Axes>"
      ]
     },
     "metadata": {
      "needs_background": "light"
     },
     "output_type": "display_data"
    }
   ],
   "source": [
    "plt.figure(figsize=(8,5))\n",
    "plt.bar(list(ipl['Player_of_Match'].value_counts()[0:5].keys()),list(ipl['Player_of_Match'].value_counts()[0:5]),color='olive')\n",
    "plt.title('Player of Match')\n",
    "plt.show()"
   ]
  },
  {
   "cell_type": "code",
   "execution_count": 27,
   "id": "103ddc8d",
   "metadata": {},
   "outputs": [
    {
     "data": {
      "text/plain": [
       "['Kuldeep Yadav', 'JC Buttler', 'HH Pandya', 'KL Rahul', 'YS Chahal']"
      ]
     },
     "execution_count": 27,
     "metadata": {},
     "output_type": "execute_result"
    }
   ],
   "source": [
    "#top 5 player of the Match\n",
    "list(ipl['Player_of_Match'].value_counts()[0:5].keys())"
   ]
  },
  {
   "cell_type": "code",
   "execution_count": null,
   "id": "66602389",
   "metadata": {},
   "outputs": [],
   "source": []
  }
 ],
 "metadata": {
  "kernelspec": {
   "display_name": "Python 3 (ipykernel)",
   "language": "python",
   "name": "python3"
  },
  "language_info": {
   "codemirror_mode": {
    "name": "ipython",
    "version": 3
   },
   "file_extension": ".py",
   "mimetype": "text/x-python",
   "name": "python",
   "nbconvert_exporter": "python",
   "pygments_lexer": "ipython3",
   "version": "3.9.7"
  },
  "papermill": {
   "default_parameters": {},
   "duration": 13.117276,
   "end_time": "2022-06-28T18:19:13.855934",
   "environment_variables": {},
   "exception": null,
   "input_path": "__notebook__.ipynb",
   "output_path": "__notebook__.ipynb",
   "parameters": {},
   "start_time": "2022-06-28T18:19:00.738658",
   "version": "2.3.4"
  }
 },
 "nbformat": 4,
 "nbformat_minor": 5
}
